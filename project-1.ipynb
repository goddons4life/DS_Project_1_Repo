{
 "cells": [
  {
   "cell_type": "code",
   "execution_count": null,
   "metadata": {},
   "outputs": [],
   "source": [
    "# Dependencies and Setup\n",
    "import matplotlib.pyplot as plt\n",
    "import pandas as pd\n",
    "import numpy as np\n",
    "import requests\n",
    "import time\n",
    "import json\n",
    "#import api_keys\n",
    "from config import api_key"
   ]
  },
  {
   "cell_type": "code",
   "execution_count": null,
   "metadata": {},
   "outputs": [],
   "source": [
    "file_to_load = \"Resources/top_hits.csv\"\n",
    "data_file = pd.read_csv(file_to_load)\n",
    "data_file.head(5)"
   ]
  },
  {
   "cell_type": "code",
   "execution_count": 42,
   "metadata": {},
   "outputs": [
    {
     "data": {
      "text/plain": [
       "Rank      4913\n",
       "Song      4913\n",
       "Artist    4913\n",
       "Year      4913\n",
       "Lyrics    4913\n",
       "Source    4913\n",
       "dtype: int64"
      ]
     },
     "execution_count": 42,
     "metadata": {},
     "output_type": "execute_result"
    }
   ],
   "source": [
    "data_file.dropna(inplace = True)\n",
    "data_file.count()"
   ]
  },
  {
   "cell_type": "code",
   "execution_count": 65,
   "metadata": {},
   "outputs": [],
   "source": [
    "target_song = row[\"Artist\"]\n",
    "#data_file[\"Song\"]"
   ]
  },
  {
   "cell_type": "code",
   "execution_count": 60,
   "metadata": {},
   "outputs": [],
   "source": [
    "# Create empty lists to append the API data into lists \n",
    "data_file[\"artist\"] = \"\"\n",
    "data_file[\"listerners\"] = \"\"\n",
    "data_file[\"ratings\"] = \"\""
   ]
  },
  {
   "cell_type": "code",
   "execution_count": 22,
   "metadata": {},
   "outputs": [],
   "source": []
  },
  {
   "cell_type": "code",
   "execution_count": null,
   "metadata": {},
   "outputs": [],
   "source": []
  },
  {
   "cell_type": "code",
   "execution_count": 66,
   "metadata": {},
   "outputs": [
    {
     "name": "stdout",
     "output_type": "stream",
     "text": [
      "<Response [200]>\n"
     ]
    }
   ],
   "source": [
    "# Build the endpoint URL\n",
    "url = 'http://ws.audioscrobbler.com/2.0/?method=artist.search&artist='\n",
    "\n",
    "#target_url = 'http://ws.audioscrobbler.com/2.0/?method=artist.search&artist=' + target_artist + '&api_key=' + api_key + '&format=json'\n",
    "target_url = \"http://ws.audioscrobbler.com/2.0/?method=track.search&track=\" + target_song + \"&api_key=\" + api_key + \"&format=json\"\n",
    "data_df = requests.get(target_url)\n",
    "print(data_df)"
   ]
  },
  {
   "cell_type": "code",
   "execution_count": 70,
   "metadata": {},
   "outputs": [],
   "source": [
    "# use iterrows to iterate through pandas dataframe\n",
    "for index, row in data_file.iterrows():\n",
    "\n",
    "    # get Target Artist from df\n",
    "    target_song = row[\"Artist\"]\n",
    "    \n",
    "    # extract results\n",
    "    results = response[\"results\"]\n",
    "    \n",
    "        "
   ]
  },
  {
   "cell_type": "code",
   "execution_count": 79,
   "metadata": {},
   "outputs": [
    {
     "ename": "SyntaxError",
     "evalue": "invalid syntax (<ipython-input-79-edecb7b39fdb>, line 3)",
     "output_type": "error",
     "traceback": [
      "\u001b[0;36m  File \u001b[0;32m\"<ipython-input-79-edecb7b39fdb>\"\u001b[0;36m, line \u001b[0;32m3\u001b[0m\n\u001b[0;31m    print(f\"{target_song} and the output {results[0][\"artist\"]}.\")\u001b[0m\n\u001b[0m                                                           ^\u001b[0m\n\u001b[0;31mSyntaxError\u001b[0m\u001b[0;31m:\u001b[0m invalid syntax\n"
     ]
    }
   ],
   "source": [
    "# Print the json (pretty printed)\n",
    "#print(json.dumps(response, indent=4, sort_keys=True))\n",
    "print(f\"{target_song} and the output {results[0][\"artist\"]}.\")"
   ]
  },
  {
   "cell_type": "code",
   "execution_count": null,
   "metadata": {},
   "outputs": [],
   "source": []
  },
  {
   "cell_type": "code",
   "execution_count": null,
   "metadata": {},
   "outputs": [],
   "source": [
    "try:\n",
    "        print(f\"{target_song} and Artist name {results[0]['name']}.\")\n",
    "        \n",
    "        data_file.loc[index,\"artist\"] = results[0][\"name\"]\n",
    "        data_file.loc[index,\"listerners\"] = results[0][\"listerners\"]\n",
    "        data_file.loc[index,\"ratings\"] = results[0][\"ratings\"]  "
   ]
  }
 ],
 "metadata": {
  "kernelspec": {
   "display_name": "Python 3",
   "language": "python",
   "name": "python3"
  },
  "language_info": {
   "codemirror_mode": {
    "name": "ipython",
    "version": 3
   },
   "file_extension": ".py",
   "mimetype": "text/x-python",
   "name": "python",
   "nbconvert_exporter": "python",
   "pygments_lexer": "ipython3",
   "version": "3.6.5"
  }
 },
 "nbformat": 4,
 "nbformat_minor": 2
}
